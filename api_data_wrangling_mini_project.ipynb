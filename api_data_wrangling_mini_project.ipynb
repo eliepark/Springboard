{
 "cells": [
  {
   "cell_type": "markdown",
   "metadata": {},
   "source": [
    "This exercise will require you to pull some data from https://data.nasdaq.com/ (formerly Quandl API)."
   ]
  },
  {
   "cell_type": "markdown",
   "metadata": {},
   "source": [
    "As a first step, you will need to register a free account on the https://data.nasdaq.com/ website."
   ]
  },
  {
   "cell_type": "markdown",
   "metadata": {},
   "source": [
    "After you register, you will be provided with a unique API key, that you should store:\n",
    "\n",
    "*Note*: Use a `.env` file and put your key in there and `python-dotenv` to access it in this notebook. \n",
    "\n",
    "The code below uses a key that was used when generating this project but has since been deleted. Never submit your keys to source control. There is a `.env-example` file in this repository to illusrtate what you need. Copy that to a file called `.env` and use your own api key in that `.env` file. Make sure you also have a `.gitignore` file with a line for `.env` added to it. \n",
    "\n",
    "The standard Python gitignore is [here](https://github.com/github/gitignore/blob/master/Python.gitignore) you can just copy that. "
   ]
  },
  {
   "cell_type": "code",
   "execution_count": 1,
   "metadata": {},
   "outputs": [
    {
     "name": "stdout",
     "output_type": "stream",
     "text": [
      "esRJKHtAFczu5B_LMQVM\n"
     ]
    }
   ],
   "source": [
    "# get api key from your .env file\n",
    "import os\n",
    "from dotenv import load_dotenv\n",
    "\n",
    "load_dotenv()\n",
    "API_KEY = os.getenv('NASDAQ_API_KEY')\n",
    "\n",
    "print(API_KEY)"
   ]
  },
  {
   "cell_type": "markdown",
   "metadata": {},
   "source": [
    "Nasdaq Data has a large number of data sources, but, unfortunately, most of them require a Premium subscription. Still, there are also a good number of free datasets."
   ]
  },
  {
   "cell_type": "markdown",
   "metadata": {},
   "source": [
    "For this mini project, we will focus on equities data from the Frankfurt Stock Exhange (FSE), which is available for free. We'll try and analyze the stock prices of a company called Carl Zeiss Meditec, which manufactures tools for eye examinations, as well as medical lasers for laser eye surgery: https://www.zeiss.com/meditec/int/home.html. The company is listed under the stock ticker AFX_X."
   ]
  },
  {
   "cell_type": "markdown",
   "metadata": {},
   "source": [
    "You can find the detailed Nasdaq Data API instructions here: https://docs.data.nasdaq.com/docs/in-depth-usage"
   ]
  },
  {
   "cell_type": "markdown",
   "metadata": {},
   "source": [
    "While there is a dedicated Python package for connecting to the Nasdaq API, we would prefer that you use the *requests* package, which can be easily downloaded using *pip* or *conda*. You can find the documentation for the package here: http://docs.python-requests.org/en/master/ "
   ]
  },
  {
   "cell_type": "markdown",
   "metadata": {},
   "source": [
    "Finally, apart from the *requests* package, you are encouraged to not use any third party Python packages, such as *pandas*, and instead focus on what's available in the Python Standard Library (the *collections* module might come in handy: https://pymotw.com/3/collections/).\n",
    "Also, since you won't have access to DataFrames, you are encouraged to us Python's native data structures - preferably dictionaries, though some questions can also be answered using lists.\n",
    "You can read more on these data structures here: https://docs.python.org/3/tutorial/datastructures.html"
   ]
  },
  {
   "cell_type": "markdown",
   "metadata": {},
   "source": [
    "Keep in mind that the JSON responses you will be getting from the API map almost one-to-one to Python's dictionaries. Unfortunately, they can be very nested, so make sure you read up on indexing dictionaries in the documentation provided above."
   ]
  },
  {
   "cell_type": "code",
   "execution_count": 2,
   "metadata": {},
   "outputs": [],
   "source": [
    "# First, import the relevant modules\n",
    "import requests\n",
    "import collections\n",
    "import json"
   ]
  },
  {
   "cell_type": "markdown",
   "metadata": {},
   "source": [
    "Note: API's can change a bit with each version, for this exercise it is reccomended to use the nasdaq api at `https://data.nasdaq.com/api/v3/`. This is the same api as what used to be quandl so `https://www.quandl.com/api/v3/` should work too.\n",
    "\n",
    "Hint: We are looking for the `AFX_X` data on the `datasets/FSE/` dataset."
   ]
  },
  {
   "cell_type": "code",
   "execution_count": 14,
   "metadata": {},
   "outputs": [
    {
     "name": "stdout",
     "output_type": "stream",
     "text": [
      "['2020-12-01', 112.2, 112.2, 111.5, 112.0, None, 51.0, 5703.0, None, None, None]\n"
     ]
    }
   ],
   "source": [
    "# Now, call the Nasdaq API and pull out a small sample of the data (only one day) to get a glimpse\n",
    "# into the JSON structure that will be returned\n",
    "url='https://www.quandl.com/api/v3/datasets/FSE/AFX_X'\n",
    "r=requests.get(url)\n",
    "json_data=r.json()\n",
    "print(json_data['dataset']['data'][0])"
   ]
  },
  {
   "cell_type": "code",
   "execution_count": 238,
   "metadata": {},
   "outputs": [],
   "source": [
    "# Inspect the JSON structure of the object you created, and take note of how nested it is,\n",
    "# as well as the overall structure\n"
   ]
  },
  {
   "cell_type": "markdown",
   "metadata": {},
   "source": [
    "These are your tasks for this mini project:\n",
    "\n",
    "1. Collect data from the Franfurt Stock Exchange, for the ticker AFX_X, for the whole year 2017 (keep in mind that the date format is YYYY-MM-DD).\n",
    "2. Convert the returned JSON object into a Python dictionary.\n",
    "3. Calculate what the highest and lowest opening prices were for the stock in this period.\n",
    "4. What was the largest change in any one day (based on High and Low price)?\n",
    "5. What was the largest change between any two days (based on Closing Price)?\n",
    "6. What was the average daily trading volume during this year?\n",
    "7. (Optional) What was the median trading volume during this year. (Note: you may need to implement your own function for calculating the median.)"
   ]
  },
  {
   "cell_type": "code",
   "execution_count": 236,
   "metadata": {
    "scrolled": true
   },
   "outputs": [
    {
     "name": "stdout",
     "output_type": "stream",
     "text": [
      "~*2017 NASDAQ Prices*~\n",
      "The highest opening price in this year is: 53.11.\n",
      "The lowest opening price is: 34.0.\n",
      "The largest change in price over a day is: 2.81, on 2017-01-02.\n",
      "The largest change in price over 2 days is: 2.13 from 2017-09-27 to 2017-09-29.\n",
      "The average daily trading volume is: 89124.33725490196.\n",
      "The median trading volume is: 76600.0.\n"
     ]
    }
   ],
   "source": [
    "#~1~#\n",
    "d=json_data['dataset']\n",
    "data_2017=[]\n",
    "for data in d['data']:\n",
    "    if '2017' in str(data[0]):\n",
    "        data_2017.append(data)\n",
    "\n",
    "#~2~#\n",
    "columns=['Open','High','Low','Close','Change','Traded Volume','Turnover',\\\n",
    " 'Last Price of the Day','Daily Traded Units','Daily Turnover']\n",
    "\n",
    "for data in data_2017:\n",
    "    dict_2017[data[0]]={}\n",
    "    for i in range(len(columns)):\n",
    "         dict_2017[data[0]].update({columns[i]:data[1:][i]})\n",
    "            \n",
    "#~3~#\n",
    "highest_open=0.0\n",
    "lowest_open=100\n",
    "for date in dict_2017:\n",
    "    s=dict_2017[date]['Open']\n",
    "    if type(s)==float:\n",
    "        if s>highest_open:\n",
    "            highest_open=s\n",
    "        if s<lowest_open:\n",
    "            lowest_open=s\n",
    "print('~*2017 NASDAQ Prices*~')       \n",
    "print('The highest opening price in this year is: '+str(highest_open)+'.')\n",
    "print('The lowest opening price is: ' +str(lowest_open)+'.')\n",
    "\n",
    "#~4~#\n",
    "for date in dict_2017:\n",
    "    dict_2017[date].pop('Change') #delete existing key cuz None everywhere\n",
    "\n",
    "highest_change_day=0.0\n",
    "for date in dict_2017:\n",
    "    high_price=dict_2017[date]['High']\n",
    "    low_price=dict_2017[date]['Low']\n",
    "    #update new 'Change' column where both values exist\n",
    "    if type(high_price)==float and type(low_price)==float:\n",
    "        change_price=round(high_price-low_price,3)\n",
    "        dict_2017[date].update({'Change':change_price})\n",
    "        #find max change in price over a day\n",
    "        if change_price > highest_change_day:\n",
    "            highest_change_day=change_price\n",
    "            highest_change_date=date\n",
    "    \n",
    "print('The largest change in price over a day is: '+ \\\n",
    "      str(highest_change_day)+ ', on '+str(date)+'.')\n",
    "\n",
    "#~5~#\n",
    "two_days=[]\n",
    "date_strs=[]\n",
    "for date in dict_2017.keys():\n",
    "    date_str=date[0:4]+date[5:7]+date[8:]\n",
    "    date_strs.append(date_str)\n",
    "for date in date_strs:\n",
    "    earlier_date=int(date)-2\n",
    "    if str(earlier_date) in date_strs:\n",
    "        two_days.append(date)\n",
    "        \n",
    "def dashed(d):\n",
    "    return d[0:4]+'-'+d[4:6]+'-'+d[6:]\n",
    "\n",
    "highest_change_2days=0.0\n",
    "for date in two_days:\n",
    "    closing_after=dict_2017[dashed(str(date))]['Close']\n",
    "    closing_before=dict_2017[dashed(str((int(date)-2)))]['Close']\n",
    "    change_in_price=round(closing_after-closing_before,3)\n",
    "    if change_in_price > highest_change_2days:\n",
    "        highest_change_2days=change_in_price\n",
    "        highest_change_2days_after=dashed(str(date))\n",
    "        highest_change_2days_before=dashed(str((int(date)-2)))\n",
    "\n",
    "print('The largest change in price over 2 days is: ' + str(highest_change_2days)\\\n",
    "      +' from '+ str(highest_change_2days_before)+' to '+\\\n",
    "      str( highest_change_2days_after)+'.')\n",
    "\n",
    "#~6~#\n",
    "traded_vol_2017=[]\n",
    "for date in dict_2017:\n",
    "    trade_vol=dict_2017[date]['Traded Volume']\n",
    "    if type(trade_vol==float):\n",
    "        traded_vol_2017.append(trade_vol)\n",
    "print('The average daily trading volume is: ' \\\n",
    "      +str(sum(traded_vol_2017)/len(traded_vol_2017))+'.')\n",
    "\n",
    "#~7~#\n",
    "def medianize(lst):\n",
    "    l=sorted(lst)\n",
    "    if len(l)%2==0:\n",
    "        med_pos=int(len(l)/2)\n",
    "        median=(l[med_pos]+l[med_pos-1])/2\n",
    "        return median\n",
    "    elif len(l)%2==1:\n",
    "        med_pos=int((len(l)+1)/2)\n",
    "        median=l[med_pos]\n",
    "        return median\n",
    "\n",
    "print('The median trading volume is: '+str(medianize(traded_vol_2017))+'.')"
   ]
  },
  {
   "cell_type": "code",
   "execution_count": 230,
   "metadata": {},
   "outputs": [],
   "source": []
  },
  {
   "cell_type": "code",
   "execution_count": null,
   "metadata": {},
   "outputs": [],
   "source": []
  },
  {
   "cell_type": "code",
   "execution_count": null,
   "metadata": {},
   "outputs": [],
   "source": []
  }
 ],
 "metadata": {
  "interpreter": {
   "hash": "7635eb1b9d0fe97add78a7368b6b431c09bb8ad5c42e437d64abdd99821c31ae"
  },
  "kernelspec": {
   "display_name": "Python 3",
   "language": "python",
   "name": "python3"
  },
  "language_info": {
   "codemirror_mode": {
    "name": "ipython",
    "version": 3
   },
   "file_extension": ".py",
   "mimetype": "text/x-python",
   "name": "python",
   "nbconvert_exporter": "python",
   "pygments_lexer": "ipython3",
   "version": "3.8.8"
  }
 },
 "nbformat": 4,
 "nbformat_minor": 4
}
